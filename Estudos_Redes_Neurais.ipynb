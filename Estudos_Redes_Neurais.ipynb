{
  "nbformat": 4,
  "nbformat_minor": 0,
  "metadata": {
    "colab": {
      "name": "Cópia de estudos_Redes_Neurais.ipynb",
      "provenance": [],
      "collapsed_sections": [],
      "authorship_tag": "ABX9TyO4dfH1Aqac4nn6vyhNbF7U",
      "include_colab_link": true
    },
    "kernelspec": {
      "name": "python3",
      "display_name": "Python 3"
    },
    "language_info": {
      "name": "python"
    }
  },
  "cells": [
    {
      "cell_type": "markdown",
      "metadata": {
        "id": "view-in-github",
        "colab_type": "text"
      },
      "source": [
        "<a href=\"https://colab.research.google.com/github/Gaazedo/EstudosTensorFlow/blob/main/C%C3%B3pia_de_estudos_Redes_Neurais.ipynb\" target=\"_parent\"><img src=\"https://colab.research.google.com/assets/colab-badge.svg\" alt=\"Open In Colab\"/></a>"
      ]
    },
    {
      "cell_type": "markdown",
      "metadata": {
        "id": "RLRaVAUvjSBJ"
      },
      "source": [
        "Este é um notebook de dados sobre Deep Learning e minha rede neural: "
      ]
    },
    {
      "cell_type": "code",
      "metadata": {
        "id": "_Y9srrH6jI9i"
      },
      "source": [
        "#Bloco de Import\n",
        "\n",
        "import keras \n",
        "from keras.datasets import mnist #database mnist\n",
        "from tensorflow.python.keras import Sequential #Modelo da rede\n",
        "from tensorflow.python.keras.layers import Dense, Dropout #NEURONIO E REGULARIZADOR\n",
        "from tensorflow.compat.v1.keras.optimizers import RMSprop #Otimizador\n"
      ],
      "execution_count": null,
      "outputs": []
    },
    {
      "cell_type": "code",
      "metadata": {
        "id": "7oHXRx6ZmieX"
      },
      "source": [
        "#carregando dados de treino e teste \n",
        "\n",
        "(x_treino,y_treino),(x_teste,y_teste) = mnist.load_data()\n"
      ],
      "execution_count": null,
      "outputs": []
    },
    {
      "cell_type": "code",
      "metadata": {
        "colab": {
          "base_uri": "https://localhost:8080/"
        },
        "id": "YN_LC6AFnKRy",
        "outputId": "77a143a7-31b9-4343-98bd-c11269e79556"
      },
      "source": [
        "print(\"Quantidade de img para treino:\",len(x_treino)) \n",
        "\n",
        "print(\"Quantidade de img para teste:\",len(x_teste))\n",
        "\n",
        "print(\"Tipo de dado de X_treino\",type(x_treino))\n",
        "\n",
        "primeira_img = x_treino[0]\n",
        "print(\"Primeira Imagem:\", primeira_img)\n",
        "\n",
        "representacao_primeira_img = y_treino[0]\n",
        "print(\"O que a imagem x_treino[0] representa:\",representacao_primeira_img)\n",
        "\n",
        "formato_primeira_img = primeira_img.shape\n",
        "print(\"Formato da primeira img:\", formato_primeira_img, type(formato_primeira_img))\n"
      ],
      "execution_count": null,
      "outputs": [
        {
          "output_type": "stream",
          "text": [
            "Quantidade de img para treino: 60000\n",
            "Quantidade de img para teste: 10000\n",
            "Tipo de dado de X_treino <class 'numpy.ndarray'>\n",
            "Primeira Imagem: [[  0   0   0   0   0   0   0   0   0   0   0   0   0   0   0   0   0   0\n",
            "    0   0   0   0   0   0   0   0   0   0]\n",
            " [  0   0   0   0   0   0   0   0   0   0   0   0   0   0   0   0   0   0\n",
            "    0   0   0   0   0   0   0   0   0   0]\n",
            " [  0   0   0   0   0   0   0   0   0   0   0   0   0   0   0   0   0   0\n",
            "    0   0   0   0   0   0   0   0   0   0]\n",
            " [  0   0   0   0   0   0   0   0   0   0   0   0   0   0   0   0   0   0\n",
            "    0   0   0   0   0   0   0   0   0   0]\n",
            " [  0   0   0   0   0   0   0   0   0   0   0   0   0   0   0   0   0   0\n",
            "    0   0   0   0   0   0   0   0   0   0]\n",
            " [  0   0   0   0   0   0   0   0   0   0   0   0   3  18  18  18 126 136\n",
            "  175  26 166 255 247 127   0   0   0   0]\n",
            " [  0   0   0   0   0   0   0   0  30  36  94 154 170 253 253 253 253 253\n",
            "  225 172 253 242 195  64   0   0   0   0]\n",
            " [  0   0   0   0   0   0   0  49 238 253 253 253 253 253 253 253 253 251\n",
            "   93  82  82  56  39   0   0   0   0   0]\n",
            " [  0   0   0   0   0   0   0  18 219 253 253 253 253 253 198 182 247 241\n",
            "    0   0   0   0   0   0   0   0   0   0]\n",
            " [  0   0   0   0   0   0   0   0  80 156 107 253 253 205  11   0  43 154\n",
            "    0   0   0   0   0   0   0   0   0   0]\n",
            " [  0   0   0   0   0   0   0   0   0  14   1 154 253  90   0   0   0   0\n",
            "    0   0   0   0   0   0   0   0   0   0]\n",
            " [  0   0   0   0   0   0   0   0   0   0   0 139 253 190   2   0   0   0\n",
            "    0   0   0   0   0   0   0   0   0   0]\n",
            " [  0   0   0   0   0   0   0   0   0   0   0  11 190 253  70   0   0   0\n",
            "    0   0   0   0   0   0   0   0   0   0]\n",
            " [  0   0   0   0   0   0   0   0   0   0   0   0  35 241 225 160 108   1\n",
            "    0   0   0   0   0   0   0   0   0   0]\n",
            " [  0   0   0   0   0   0   0   0   0   0   0   0   0  81 240 253 253 119\n",
            "   25   0   0   0   0   0   0   0   0   0]\n",
            " [  0   0   0   0   0   0   0   0   0   0   0   0   0   0  45 186 253 253\n",
            "  150  27   0   0   0   0   0   0   0   0]\n",
            " [  0   0   0   0   0   0   0   0   0   0   0   0   0   0   0  16  93 252\n",
            "  253 187   0   0   0   0   0   0   0   0]\n",
            " [  0   0   0   0   0   0   0   0   0   0   0   0   0   0   0   0   0 249\n",
            "  253 249  64   0   0   0   0   0   0   0]\n",
            " [  0   0   0   0   0   0   0   0   0   0   0   0   0   0  46 130 183 253\n",
            "  253 207   2   0   0   0   0   0   0   0]\n",
            " [  0   0   0   0   0   0   0   0   0   0   0   0  39 148 229 253 253 253\n",
            "  250 182   0   0   0   0   0   0   0   0]\n",
            " [  0   0   0   0   0   0   0   0   0   0  24 114 221 253 253 253 253 201\n",
            "   78   0   0   0   0   0   0   0   0   0]\n",
            " [  0   0   0   0   0   0   0   0  23  66 213 253 253 253 253 198  81   2\n",
            "    0   0   0   0   0   0   0   0   0   0]\n",
            " [  0   0   0   0   0   0  18 171 219 253 253 253 253 195  80   9   0   0\n",
            "    0   0   0   0   0   0   0   0   0   0]\n",
            " [  0   0   0   0  55 172 226 253 253 253 253 244 133  11   0   0   0   0\n",
            "    0   0   0   0   0   0   0   0   0   0]\n",
            " [  0   0   0   0 136 253 253 253 212 135 132  16   0   0   0   0   0   0\n",
            "    0   0   0   0   0   0   0   0   0   0]\n",
            " [  0   0   0   0   0   0   0   0   0   0   0   0   0   0   0   0   0   0\n",
            "    0   0   0   0   0   0   0   0   0   0]\n",
            " [  0   0   0   0   0   0   0   0   0   0   0   0   0   0   0   0   0   0\n",
            "    0   0   0   0   0   0   0   0   0   0]\n",
            " [  0   0   0   0   0   0   0   0   0   0   0   0   0   0   0   0   0   0\n",
            "    0   0   0   0   0   0   0   0   0   0]]\n",
            "O que a imagem x_treino[0] representa: 5\n",
            "Formato da primeira img: (28, 28) <class 'tuple'>\n"
          ],
          "name": "stdout"
        }
      ]
    },
    {
      "cell_type": "code",
      "metadata": {
        "colab": {
          "base_uri": "https://localhost:8080/",
          "height": 283
        },
        "id": "KJMvq21apjGn",
        "outputId": "3ee7d5be-2c5e-4173-a459-d035ba3d850e"
      },
      "source": [
        "import matplotlib.pyplot as plt\n",
        "\n",
        "\"\"\"\n",
        "Para cada imagem do dataset dentro do range ele irá printar com o uso de For\n",
        "\"\"\"\n",
        "\"\"\"\n",
        "for indice in range(60000):\n",
        "  print(\"essa imagem representa:\", y_treino[indice])\n",
        "  plt.imshow(x_treino[indice],cmap=plt.cm.binary)\n",
        "  plt.show()\n",
        "\"\"\"\n",
        "indice = 0\n",
        "\n",
        "print(\"essa imagem representa:\", y_treino[indice])\n",
        "plt.imshow(x_treino[indice],cmap=plt.cm.binary) # o uso do cm.binary é para tornar preto e branco na escala de saida\n",
        "plt.show()"
      ],
      "execution_count": null,
      "outputs": [
        {
          "output_type": "stream",
          "text": [
            "essa imagem representa: 5\n"
          ],
          "name": "stdout"
        },
        {
          "output_type": "display_data",
          "data": {
            "image/png": "[encoded data removed]",
            "text/plain": [
              "<Figure size 432x288 with 1 Axes>"
            ]
          },
          "metadata": {
            "tags": [],
            "needs_background": "light"
          }
        }
      ]
    },
    {
      "cell_type": "code",
      "metadata": {
        "id": "pMTasm3DrASv"
      },
      "source": [
        "#Fluxo de construção da rede neural \n",
        "\n",
        "# - Organizar a camada de entrada (input)\n",
        "# - Organizar a camada de saida (output)\n",
        "# - Estrurtar a rede Neural\n",
        "# - Treinar o modelo\n",
        "# - Fazer Previsões"
      ],
      "execution_count": null,
      "outputs": []
    },
    {
      "cell_type": "code",
      "metadata": {
        "id": "xjKF-8cQrlEo"
      },
      "source": [
        "#Achatando a matriz de pixels \n",
        "\n",
        "\n",
        "qtd_treino = len(x_treino) #60000 imgs\n",
        "qtd_teste = len(x_teste) #10000 imgs\n",
        "\n",
        "resolucao_img = x_treino[0].shape #(28px,28px) \n",
        "resolucao_total = resolucao_img[0]*resolucao_img[1] # 28 * 28 = 784px\n",
        "x_treino = x_treino.reshape(qtd_treino,resolucao_total)\n",
        "x_teste = x_teste.reshape(qtd_teste,resolucao_total)\n"
      ],
      "execution_count": null,
      "outputs": []
    },
    {
      "cell_type": "code",
      "metadata": {
        "colab": {
          "base_uri": "https://localhost:8080/"
        },
        "id": "MuxfQxwUt3dU",
        "outputId": "10ace3a9-1a96-4092-c9c5-7bcdec8be32f"
      },
      "source": [
        "print(\"Quantidade de itens em x_treino[0]\", len(x_treino[0]))\n",
        "\n",
        "#como ficou x_treino\n",
        "print(x_treino)\n"
      ],
      "execution_count": null,
      "outputs": [
        {
          "output_type": "stream",
          "text": [
            "Quantidade de itens em x_treino[0] 784\n",
            "[[0 0 0 ... 0 0 0]\n",
            " [0 0 0 ... 0 0 0]\n",
            " [0 0 0 ... 0 0 0]\n",
            " ...\n",
            " [0 0 0 ... 0 0 0]\n",
            " [0 0 0 ... 0 0 0]\n",
            " [0 0 0 ... 0 0 0]]\n"
          ],
          "name": "stdout"
        }
      ]
    },
    {
      "cell_type": "code",
      "metadata": {
        "colab": {
          "base_uri": "https://localhost:8080/"
        },
        "id": "NlhVa3q6uTIF",
        "outputId": "6410c6f5-c9aa-4a04-b6c3-9a17958ca429"
      },
      "source": [
        "#Normalização dos dados\n",
        "\n",
        "#255 vira 1 \n",
        "#127 vira 0.5\n",
        "#0 vira 0 \n",
        "#etc\n",
        "\n",
        "#Garantir a entrada na rede neural é = 1\n",
        "#como a img atual fornece um valor max de 255, precisamos normalizar\n",
        "x_treino = x_treino.astype('float32')\n",
        "x_teste = x_teste.astype('float32')\n",
        "\n",
        "x_treino /= 255\n",
        "x_teste /= 255\n",
        "\n",
        "print(x_treino[0][350] ,type(x_treino[0][350]))"
      ],
      "execution_count": null,
      "outputs": [
        {
          "output_type": "stream",
          "text": [
            "0.27450982 <class 'numpy.float32'>\n"
          ],
          "name": "stdout"
        }
      ]
    },
    {
      "cell_type": "code",
      "metadata": {
        "colab": {
          "base_uri": "https://localhost:8080/"
        },
        "id": "jKeszVyDvr0F",
        "outputId": "8d28f3e3-2bb8-422f-8d2c-7141fbb7d43e"
      },
      "source": [
        "#Visualizando dados normalizados\n",
        "\n",
        "print(\"Dados Normalizados:\", x_treino[0])\n",
        "\n"
      ],
      "execution_count": null,
      "outputs": [
        {
          "output_type": "stream",
          "text": [
            "Dados Normalizados: [0.         0.         0.         0.         0.         0.\n",
            " 0.         0.         0.         0.         0.         0.\n",
            " 0.         0.         0.         0.         0.         0.\n",
            " 0.         0.         0.         0.         0.         0.\n",
            " 0.         0.         0.         0.         0.         0.\n",
            " 0.         0.         0.         0.         0.         0.\n",
            " 0.         0.         0.         0.         0.         0.\n",
            " 0.         0.         0.         0.         0.         0.\n",
            " 0.         0.         0.         0.         0.         0.\n",
            " 0.         0.         0.         0.         0.         0.\n",
            " 0.         0.         0.         0.         0.         0.\n",
            " 0.         0.         0.         0.         0.         0.\n",
            " 0.         0.         0.         0.         0.         0.\n",
            " 0.         0.         0.         0.         0.         0.\n",
            " 0.         0.         0.         0.         0.         0.\n",
            " 0.         0.         0.         0.         0.         0.\n",
            " 0.         0.         0.         0.         0.         0.\n",
            " 0.         0.         0.         0.         0.         0.\n",
            " 0.         0.         0.         0.         0.         0.\n",
            " 0.         0.         0.         0.         0.         0.\n",
            " 0.         0.         0.         0.         0.         0.\n",
            " 0.         0.         0.         0.         0.         0.\n",
            " 0.         0.         0.         0.         0.         0.\n",
            " 0.         0.         0.         0.         0.         0.\n",
            " 0.         0.         0.         0.         0.         0.\n",
            " 0.         0.         0.01176471 0.07058824 0.07058824 0.07058824\n",
            " 0.49411765 0.53333336 0.6862745  0.10196079 0.6509804  1.\n",
            " 0.96862745 0.49803922 0.         0.         0.         0.\n",
            " 0.         0.         0.         0.         0.         0.\n",
            " 0.         0.         0.11764706 0.14117648 0.36862746 0.6039216\n",
            " 0.6666667  0.99215686 0.99215686 0.99215686 0.99215686 0.99215686\n",
            " 0.88235295 0.6745098  0.99215686 0.9490196  0.7647059  0.2509804\n",
            " 0.         0.         0.         0.         0.         0.\n",
            " 0.         0.         0.         0.         0.         0.19215687\n",
            " 0.93333334 0.99215686 0.99215686 0.99215686 0.99215686 0.99215686\n",
            " 0.99215686 0.99215686 0.99215686 0.9843137  0.3647059  0.32156864\n",
            " 0.32156864 0.21960784 0.15294118 0.         0.         0.\n",
            " 0.         0.         0.         0.         0.         0.\n",
            " 0.         0.         0.         0.07058824 0.85882354 0.99215686\n",
            " 0.99215686 0.99215686 0.99215686 0.99215686 0.7764706  0.7137255\n",
            " 0.96862745 0.94509804 0.         0.         0.         0.\n",
            " 0.         0.         0.         0.         0.         0.\n",
            " 0.         0.         0.         0.         0.         0.\n",
            " 0.         0.         0.3137255  0.6117647  0.41960785 0.99215686\n",
            " 0.99215686 0.8039216  0.04313726 0.         0.16862746 0.6039216\n",
            " 0.         0.         0.         0.         0.         0.\n",
            " 0.         0.         0.         0.         0.         0.\n",
            " 0.         0.         0.         0.         0.         0.\n",
            " 0.         0.05490196 0.00392157 0.6039216  0.99215686 0.3529412\n",
            " 0.         0.         0.         0.         0.         0.\n",
            " 0.         0.         0.         0.         0.         0.\n",
            " 0.         0.         0.         0.         0.         0.\n",
            " 0.         0.         0.         0.         0.         0.\n",
            " 0.         0.54509807 0.99215686 0.74509805 0.00784314 0.\n",
            " 0.         0.         0.         0.         0.         0.\n",
            " 0.         0.         0.         0.         0.         0.\n",
            " 0.         0.         0.         0.         0.         0.\n",
            " 0.         0.         0.         0.         0.         0.04313726\n",
            " 0.74509805 0.99215686 0.27450982 0.         0.         0.\n",
            " 0.         0.         0.         0.         0.         0.\n",
            " 0.         0.         0.         0.         0.         0.\n",
            " 0.         0.         0.         0.         0.         0.\n",
            " 0.         0.         0.         0.         0.13725491 0.94509804\n",
            " 0.88235295 0.627451   0.42352942 0.00392157 0.         0.\n",
            " 0.         0.         0.         0.         0.         0.\n",
            " 0.         0.         0.         0.         0.         0.\n",
            " 0.         0.         0.         0.         0.         0.\n",
            " 0.         0.         0.         0.31764707 0.9411765  0.99215686\n",
            " 0.99215686 0.46666667 0.09803922 0.         0.         0.\n",
            " 0.         0.         0.         0.         0.         0.\n",
            " 0.         0.         0.         0.         0.         0.\n",
            " 0.         0.         0.         0.         0.         0.\n",
            " 0.         0.         0.1764706  0.7294118  0.99215686 0.99215686\n",
            " 0.5882353  0.10588235 0.         0.         0.         0.\n",
            " 0.         0.         0.         0.         0.         0.\n",
            " 0.         0.         0.         0.         0.         0.\n",
            " 0.         0.         0.         0.         0.         0.\n",
            " 0.         0.0627451  0.3647059  0.9882353  0.99215686 0.73333335\n",
            " 0.         0.         0.         0.         0.         0.\n",
            " 0.         0.         0.         0.         0.         0.\n",
            " 0.         0.         0.         0.         0.         0.\n",
            " 0.         0.         0.         0.         0.         0.\n",
            " 0.         0.9764706  0.99215686 0.9764706  0.2509804  0.\n",
            " 0.         0.         0.         0.         0.         0.\n",
            " 0.         0.         0.         0.         0.         0.\n",
            " 0.         0.         0.         0.         0.         0.\n",
            " 0.         0.         0.18039216 0.50980395 0.7176471  0.99215686\n",
            " 0.99215686 0.8117647  0.00784314 0.         0.         0.\n",
            " 0.         0.         0.         0.         0.         0.\n",
            " 0.         0.         0.         0.         0.         0.\n",
            " 0.         0.         0.         0.         0.15294118 0.5803922\n",
            " 0.8980392  0.99215686 0.99215686 0.99215686 0.98039216 0.7137255\n",
            " 0.         0.         0.         0.         0.         0.\n",
            " 0.         0.         0.         0.         0.         0.\n",
            " 0.         0.         0.         0.         0.         0.\n",
            " 0.09411765 0.44705883 0.8666667  0.99215686 0.99215686 0.99215686\n",
            " 0.99215686 0.7882353  0.30588236 0.         0.         0.\n",
            " 0.         0.         0.         0.         0.         0.\n",
            " 0.         0.         0.         0.         0.         0.\n",
            " 0.         0.         0.09019608 0.25882354 0.8352941  0.99215686\n",
            " 0.99215686 0.99215686 0.99215686 0.7764706  0.31764707 0.00784314\n",
            " 0.         0.         0.         0.         0.         0.\n",
            " 0.         0.         0.         0.         0.         0.\n",
            " 0.         0.         0.         0.         0.07058824 0.67058825\n",
            " 0.85882354 0.99215686 0.99215686 0.99215686 0.99215686 0.7647059\n",
            " 0.3137255  0.03529412 0.         0.         0.         0.\n",
            " 0.         0.         0.         0.         0.         0.\n",
            " 0.         0.         0.         0.         0.         0.\n",
            " 0.21568628 0.6745098  0.8862745  0.99215686 0.99215686 0.99215686\n",
            " 0.99215686 0.95686275 0.52156866 0.04313726 0.         0.\n",
            " 0.         0.         0.         0.         0.         0.\n",
            " 0.         0.         0.         0.         0.         0.\n",
            " 0.         0.         0.         0.         0.53333336 0.99215686\n",
            " 0.99215686 0.99215686 0.83137256 0.5294118  0.5176471  0.0627451\n",
            " 0.         0.         0.         0.         0.         0.\n",
            " 0.         0.         0.         0.         0.         0.\n",
            " 0.         0.         0.         0.         0.         0.\n",
            " 0.         0.         0.         0.         0.         0.\n",
            " 0.         0.         0.         0.         0.         0.\n",
            " 0.         0.         0.         0.         0.         0.\n",
            " 0.         0.         0.         0.         0.         0.\n",
            " 0.         0.         0.         0.         0.         0.\n",
            " 0.         0.         0.         0.         0.         0.\n",
            " 0.         0.         0.         0.         0.         0.\n",
            " 0.         0.         0.         0.         0.         0.\n",
            " 0.         0.         0.         0.         0.         0.\n",
            " 0.         0.         0.         0.         0.         0.\n",
            " 0.         0.         0.         0.         0.         0.\n",
            " 0.         0.         0.         0.         0.         0.\n",
            " 0.         0.         0.         0.         0.         0.\n",
            " 0.         0.         0.         0.        ]\n"
          ],
          "name": "stdout"
        }
      ]
    },
    {
      "cell_type": "code",
      "metadata": {
        "colab": {
          "base_uri": "https://localhost:8080/"
        },
        "id": "ceGSqvGWwhVS",
        "outputId": "7172a907-65aa-4c71-93ef-081fd0c10379"
      },
      "source": [
        "#Preparação da Camada de Saida\n",
        "\n",
        "valores_unicos = set(y_treino)\n",
        "print(\"Valores unicos:\", valores_unicos)\n",
        "\n",
        "qtd_valores_unicos = len(valores_unicos) \n",
        "print(\"A quantidade de valores unicos é:\",qtd_valores_unicos)\n",
        "\n",
        "# Transformar valores unicos em var categoricas\n",
        "#N 0 -> [1,0,0,0,0,0,0,0]\n",
        "#N 1 -> [0,1,0,0,0,0,0,0]\n",
        "#...\n",
        "#N 9 -> [0,0,0,0,0,0,0,0,0,1]\n",
        "\n",
        "print(\"y_treino[0] antes:\",y_treino[0])\n",
        "\n",
        "y_treino = keras.utils.to_categorical(y_treino,qtd_valores_unicos)\n",
        "y_teste = keras.utils.to_categorical(y_teste,qtd_valores_unicos)\n",
        "\n",
        "print(\"y_treino[0] depois:\",y_treino[0])"
      ],
      "execution_count": null,
      "outputs": [
        {
          "output_type": "stream",
          "text": [
            "Valores unicos: {0, 1, 2, 3, 4, 5, 6, 7, 8, 9}\n",
            "A quantidade de valores unicos é: 10\n",
            "y_treino[0] antes: 5\n",
            "y_treino[0] depois: [0. 0. 0. 0. 0. 1. 0. 0. 0. 0.]\n"
          ],
          "name": "stdout"
        }
      ]
    },
    {
      "cell_type": "code",
      "metadata": {
        "colab": {
          "base_uri": "https://localhost:8080/"
        },
        "id": "uYX6HJtm0BVO",
        "outputId": "ccb1b165-7302-4e67-e67b-815dde0e7e0c"
      },
      "source": [
        "# Criando o modelo da rede neural\n",
        "\n",
        "model = Sequential()\n",
        "\n",
        "#Primeira Hidden Layer \n",
        "#30 neuronios\n",
        "#Funcao de ativacao ReLU\n",
        "#Como estamos na 1a hidden layer, precisamos declarar o formato da camada de entrada \n",
        "\n",
        "model.add(Dense(30, activation='relu',input_shape=(resolucao_total,)))\n",
        "\n",
        "#add do regulador\n",
        "\n",
        "model.add(Dropout(0.2))\n",
        "\n",
        "#Segunda Layer\n",
        "#20 neuronios \n",
        "#ativacao ReLU\n",
        "model.add(Dense(20, activation='relu'))\n",
        "\n",
        "#REGULARIZADOR\n",
        "model.add(Dropout(0.2))\n",
        "\n",
        "#FINALIZADOR - CAMADA DE SAIDA - qtd de valores unicos \n",
        "\n",
        "model.add(Dense(qtd_valores_unicos,activation='softmax'))\n",
        "\n",
        "#exibe o resumo do modelo criado \n",
        "model.summary()\n"
      ],
      "execution_count": null,
      "outputs": [
        {
          "output_type": "stream",
          "text": [
            "Model: \"sequential\"\n",
            "_________________________________________________________________\n",
            "Layer (type)                 Output Shape              Param #   \n",
            "=================================================================\n",
            "dense (Dense)                (None, 30)                23550     \n",
            "_________________________________________________________________\n",
            "dropout (Dropout)            (None, 30)                0         \n",
            "_________________________________________________________________\n",
            "dense_1 (Dense)              (None, 20)                620       \n",
            "_________________________________________________________________\n",
            "dropout_1 (Dropout)          (None, 20)                0         \n",
            "_________________________________________________________________\n",
            "dense_2 (Dense)              (None, 10)                210       \n",
            "=================================================================\n",
            "Total params: 24,380\n",
            "Trainable params: 24,380\n",
            "Non-trainable params: 0\n",
            "_________________________________________________________________\n"
          ],
          "name": "stdout"
        }
      ]
    },
    {
      "cell_type": "code",
      "metadata": {
        "id": "2EwpIK1I20ij"
      },
      "source": [
        "#Compila o modelo\n",
        "\n",
        "model.compile(loss='categorical_crossentropy',\n",
        "              optimizer=RMSprop(),\n",
        "              metrics=['accuracy'])"
      ],
      "execution_count": null,
      "outputs": []
    },
    {
      "cell_type": "code",
      "metadata": {
        "colab": {
          "base_uri": "https://localhost:8080/"
        },
        "id": "Ii6T3gPf3Flk",
        "outputId": "ba3b3462-4ebc-49db-c9b0-7c6d9997a7fd"
      },
      "source": [
        "#treina o modelo\n",
        "\n",
        "history = model.fit(x_treino,y_treino,\n",
        "                    batch_size=128,\n",
        "                    epochs=10,\n",
        "                    verbose=1,\n",
        "                    validation_data=(x_teste,y_teste))"
      ],
      "execution_count": null,
      "outputs": [
        {
          "output_type": "stream",
          "text": [
            "Epoch 1/10\n",
            "469/469 [==============================] - 2s 3ms/step - loss: 1.2264 - accuracy: 0.5945 - val_loss: 0.3198 - val_accuracy: 0.9076\n",
            "Epoch 2/10\n",
            "469/469 [==============================] - 1s 2ms/step - loss: 0.5022 - accuracy: 0.8468 - val_loss: 0.2498 - val_accuracy: 0.9289\n",
            "Epoch 3/10\n",
            "469/469 [==============================] - 1s 2ms/step - loss: 0.4154 - accuracy: 0.8773 - val_loss: 0.2175 - val_accuracy: 0.9371\n",
            "Epoch 4/10\n",
            "469/469 [==============================] - 1s 2ms/step - loss: 0.3690 - accuracy: 0.8907 - val_loss: 0.2001 - val_accuracy: 0.9412\n",
            "Epoch 5/10\n",
            "469/469 [==============================] - 1s 2ms/step - loss: 0.3354 - accuracy: 0.9001 - val_loss: 0.1971 - val_accuracy: 0.9433\n",
            "Epoch 6/10\n",
            "469/469 [==============================] - 1s 2ms/step - loss: 0.3292 - accuracy: 0.9025 - val_loss: 0.1864 - val_accuracy: 0.9463\n",
            "Epoch 7/10\n",
            "469/469 [==============================] - 1s 2ms/step - loss: 0.3134 - accuracy: 0.9091 - val_loss: 0.1764 - val_accuracy: 0.9472\n",
            "Epoch 8/10\n",
            "469/469 [==============================] - 1s 2ms/step - loss: 0.3035 - accuracy: 0.9110 - val_loss: 0.1722 - val_accuracy: 0.9483\n",
            "Epoch 9/10\n",
            "469/469 [==============================] - 1s 2ms/step - loss: 0.2962 - accuracy: 0.9152 - val_loss: 0.1737 - val_accuracy: 0.9501\n",
            "Epoch 10/10\n",
            "469/469 [==============================] - 1s 2ms/step - loss: 0.2857 - accuracy: 0.9166 - val_loss: 0.1687 - val_accuracy: 0.9518\n"
          ],
          "name": "stdout"
        }
      ]
    },
    {
      "cell_type": "code",
      "metadata": {
        "colab": {
          "base_uri": "https://localhost:8080/",
          "height": 354
        },
        "id": "tmiQHvfI3-in",
        "outputId": "0e05d199-2fa1-4dc6-d6cf-512200ecb29f"
      },
      "source": [
        "#Fazendo Previsões\n",
        "\n",
        "indice = 499\n",
        "\n",
        "print(\"Valor categorico em y_teste[indice]:\",y_teste[indice])\n",
        "\n",
        "#preparar img para previsão\n",
        "imagem = x_teste[indice].reshape((1,resolucao_total))\n",
        "\n",
        "previsao = model.predict(imagem)\n",
        "print(\"Previsão:\", previsao)\n",
        "\n",
        "import numpy as np\n",
        "\n",
        "previsao_cat = np.argmax(previsao, axis = -1)\n",
        "print(\"Previsao Ajustada:\", previsao_cat)\n",
        "#apenas para visualizar (não necessario em produção)\n",
        "(x_treino_img,y_treino_img),(x_teste_img,y_teste_img) = mnist.load_data()\n",
        "plt.imshow(x_teste_img[indice],cmap=plt.cm.binary)"
      ],
      "execution_count": null,
      "outputs": [
        {
          "output_type": "stream",
          "text": [
            "Valor categorico em y_teste[indice]: [0. 0. 0. 0. 0. 0. 1. 0. 0. 0.]\n",
            "Previsão: [[1.7242011e-05 5.0116596e-05 2.8911836e-03 6.1230080e-06 5.3073518e-04\n",
            "  6.7222863e-04 9.9557424e-01 6.5158537e-07 2.5641851e-04 1.1072505e-06]]\n",
            "Previsao Ajustada: [6]\n"
          ],
          "name": "stdout"
        },
        {
          "output_type": "execute_result",
          "data": {
            "text/plain": [
              "<matplotlib.image.AxesImage at 0x7fa079d8b8d0>"
            ]
          },
          "metadata": {
            "tags": []
          },
          "execution_count": 35
        },
        {
          "output_type": "display_data",
          "data": {
            "image/png": "[encoded data removed]",
            "text/plain": [
              "<Figure size 432x288 with 1 Axes>"
            ]
          },
          "metadata": {
            "tags": [],
            "needs_background": "light"
          }
        }
      ]
    },
    {
      "cell_type": "code",
      "metadata": {
        "colab": {
          "base_uri": "https://localhost:8080/"
        },
        "id": "YW2x7YkwHJVF",
        "outputId": "17034d80-f1a6-47dc-d170-ca12ea82420a"
      },
      "source": [
        "#Fazendo Previsões Infinitas testando diferentes indices \n",
        "\n",
        "indice = int(input(\"Indice: \"))\n",
        "\n",
        "print(\"Valor categorico em y_teste[indice]:\",y_teste[indice])\n",
        "\n",
        "#preparar img para previsão\n",
        "imagem = x_teste[indice].reshape((1,resolucao_total))\n",
        "\n",
        "previsao = model.predict(imagem)\n",
        "print(\"Previsão:\", previsao)\n",
        "\n",
        "import numpy as np\n",
        "\n",
        "previsao_cat = np.argmax(previsao, axis = -1)\n",
        "print(\"Previsao Ajustada:\", previsao_cat)\n",
        "  #apenas para visualizar (não necessario em produção)\n",
        "  #(x_treino_img,y_treino_img),(x_teste_img,y_teste_img) = mnist.load_data()\n",
        "  #plt.imshow(x_teste_img[indice],cmap=plt.cm.binary)"
      ],
      "execution_count": null,
      "outputs": [
        {
          "output_type": "stream",
          "text": [
            "Indice: 16\n",
            "Valor categorico em y_teste[indice]: [0. 0. 0. 0. 0. 0. 0. 0. 0. 1.]\n",
            "Previsão: [[1.7616011e-07 6.4278801e-08 4.9990613e-05 8.1297061e-05 1.9593313e-03\n",
            "  2.4636118e-05 5.8449537e-08 7.3519680e-03 9.2253860e-05 9.9044025e-01]]\n",
            "Previsao Ajustada: [9]\n"
          ],
          "name": "stdout"
        }
      ]
    }
  ]
}
